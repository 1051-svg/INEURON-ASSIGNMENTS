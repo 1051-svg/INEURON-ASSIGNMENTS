{
 "cells": [
  {
   "cell_type": "markdown",
   "id": "0262adcb",
   "metadata": {},
   "source": [
    "Q1. Why do we call Python as a general purpose and high-level programming language?"
   ]
  },
  {
   "cell_type": "markdown",
   "id": "8a21aff7",
   "metadata": {},
   "source": [
    "Ans:Python is called as general purpose language because it can be broadly used for different applications and \n",
    "    programs and it is a high level language beacause it is easy for a programmer to understand which is close\n",
    "    to human language unlike a machine language."
   ]
  },
  {
   "cell_type": "markdown",
   "id": "9fc28641",
   "metadata": {},
   "source": [
    "Q2. Why is Python called a dynamically typed language?\n",
    "\n",
    "Ans: Because declaration of data type is not necessary in the python as it will automatically determine the data type \n",
    "    from the value assigned during the runtime and it also cares about the memory management.\n"
   ]
  },
  {
   "attachments": {},
   "cell_type": "markdown",
   "id": "dc072b20",
   "metadata": {},
   "source": [
    "Q3. List some pros and cons of Python programming language?\n",
    "\n",
    "\n",
    "Ans:\n",
    "pros:\n",
    "python supports object oriented programming.\n",
    "high speed of development.\n",
    "high level language\n",
    "It is a dynamically typed language where programmer don't have to decalre a variable type.\n",
    "Cons:\n",
    "High memory consumptions.\n",
    "speed of execution is slow when compared with c++ and java.\n"
   ]
  },
  {
   "attachments": {},
   "cell_type": "markdown",
   "id": "fa974be8",
   "metadata": {},
   "source": [
    "\n",
    "Q4. In what all domains can we use Python?\n",
    "\n",
    "Ans: In Big data domain, Artificial intelligence, deep learning and many.... python is important for any data engineer and data scientist. \n",
    "\n",
    "\n"
   ]
  },
  {
   "attachments": {},
   "cell_type": "markdown",
   "id": "4d734aff",
   "metadata": {},
   "source": [
    "Q5. What are variable and how can we declare them?\n",
    "\n",
    "Ans: Variable is a name given to a specified memory location, declaration of the variable can be done by naming the variable\n",
    "and assigning a value to that variable and we may or may not declare the data type of that variable because it is automatically determined fromthe value assigned.\n",
    "example:\n",
    "x=5                     or           int_variable = 5\n",
    "print(x)                             str_variable = 'data'\n",
    "output: 5                            float_variable= 51.0"
   ]
  },
  {
   "attachments": {},
   "cell_type": "markdown",
   "id": "160e814c",
   "metadata": {},
   "source": [
    "\n",
    "Q6. How can we take an input from the user in Python?\n",
    "\n",
    "\n",
    "Ans: example: x=int(input(\"enter your age\"))\n",
    "              or\n",
    "name=input(\"enter your name\")\n",
    "print(\"name is\",name)\n",
    "\n"
   ]
  },
  {
   "attachments": {},
   "cell_type": "markdown",
   "id": "fee2682f",
   "metadata": {},
   "source": [
    "Q7. What is the default datatype of the value that has been taken as an input using input() function?\n",
    "\n",
    "\n",
    "Ans: default datatype will be string"
   ]
  },
  {
   "attachments": {},
   "cell_type": "markdown",
   "id": "2561a7a6",
   "metadata": {},
   "source": [
    "Q8. What is type casting?\n",
    "\n",
    "\n",
    "Ans: Type casting means converting one datatype to the another datatype.\n"
   ]
  },
  {
   "attachments": {},
   "cell_type": "markdown",
   "id": "00bd62e4",
   "metadata": {},
   "source": [
    "Q9. Can we take more than one input from the user using single input() function? If yes, how? If no, why?\n",
    "\n",
    "\n",
    "Ans: No, because if we want to take more than one input from the user we need use split() function it is not possible\n",
    "    by using single input() function.\n"
   ]
  },
  {
   "attachments": {},
   "cell_type": "markdown",
   "id": "29092ac1",
   "metadata": {},
   "source": [
    "Q10. What are keywords?\n",
    "\n",
    "\n",
    "Ans: keywords are predefined words in python which have specific meaning and used for define syntax for coding.\n",
    "example:if, elif, else, and, or,for, while, break,def, lamda etc., there are 33 keywords in python"
   ]
  },
  {
   "attachments": {},
   "cell_type": "markdown",
   "id": "0fdd3edb",
   "metadata": {},
   "source": [
    "Q11. Can we use keywords as a variable? Support your answer with reason.\n",
    "\n",
    "\n",
    "Ans: No, keywords cannot be used as a variable because keywords are predefined words which have specific meaning and purpose. where as variable can be written or choosen by the programmer for the better understanding of the program for what the variable is used for and also these are not predefined we can choose any name for variable where as keywords are reserved cannot be changed and used to define syntax for coding.\n"
   ]
  },
  {
   "attachments": {},
   "cell_type": "markdown",
   "id": "7fcf9dca",
   "metadata": {},
   "source": [
    "Q12. What is indentation? What's the use of indentaion in Python?\n",
    "\n",
    "\n",
    "Ans: indentation menas spaces at the beginning of code , In python indentation will indicates the block of code.\n"
   ]
  },
  {
   "attachments": {},
   "cell_type": "markdown",
   "id": "229080a5",
   "metadata": {},
   "source": [
    "Q13. How can we throw some output in Python?\n",
    "\n",
    "\n",
    "ans: By using print() function we can throw output.\n"
   ]
  },
  {
   "attachments": {},
   "cell_type": "markdown",
   "id": "f9db1a7b",
   "metadata": {},
   "source": [
    "Q14. What are operators in Python?\n",
    "\n",
    "\n",
    "Ans: Operators are special symbols they are used perform the operation on variables.\n",
    "examples: arithmetic operator(+ - * / //)\n",
    "comparision operator (==, !=, >, <)\n",
    "logical operator are (and, or, not)\n",
    "aasignment operator (=, +=, /=)\n"
   ]
  },
  {
   "attachments": {},
   "cell_type": "markdown",
   "id": "c707d514",
   "metadata": {},
   "source": [
    "Q15. What is difference between / and // operators?\n",
    "\n",
    "\n",
    "Ans: / is a division operator divides two values and gives ou the exact result(even in decimals) where as // known \n",
    "    as floor division operator it rounds the result to nearest number.\n"
   ]
  },
  {
   "cell_type": "markdown",
   "id": "c921288d",
   "metadata": {},
   "source": [
    "Q16. Write a code that gives following as an output.\n",
    "iNeuroniNeuroniNeuroniNeuron\n"
   ]
  },
  {
   "cell_type": "code",
   "execution_count": 7,
   "id": "41d67ef3",
   "metadata": {},
   "outputs": [
    {
     "name": "stdout",
     "output_type": "stream",
     "text": [
      "iNeuroniNeuroniNeuroniNeuron\n"
     ]
    }
   ],
   "source": [
    "\n",
    "multiply_numeric_str = \"iNeuron\"*4\n",
    "print(multiply_numeric_str )"
   ]
  },
  {
   "cell_type": "markdown",
   "id": "b1ecfcb3",
   "metadata": {},
   "source": [
    "Q17. Write a code to take a number as an input from the user and check if the number is odd or even.\n"
   ]
  },
  {
   "cell_type": "code",
   "execution_count": 2,
   "id": "55fecbd5",
   "metadata": {},
   "outputs": [
    {
     "name": "stdout",
     "output_type": "stream",
     "text": [
      "enter the number3\n",
      "odd\n"
     ]
    }
   ],
   "source": [
    "\n",
    "num=int(input(\"enter the number\"))\n",
    "if (num%2)==0:\n",
    "    print(\"even\")\n",
    "else:\n",
    "    print(\"odd\")"
   ]
  },
  {
   "attachments": {},
   "cell_type": "markdown",
   "id": "0a54da66",
   "metadata": {},
   "source": [
    "Q18. What are boolean operator?\n",
    "\n",
    "\n",
    "Ans: Boolean operators evaluate the statement weather it is true or false. AND nd OR OPERATOR NEEDS two statements two "
   ]
  },
  {
   "attachments": {},
   "cell_type": "markdown",
   "id": "bea51a5f",
   "metadata": {},
   "source": [
    "Q19. What will the output of the following?\n",
    "\n",
    "\n",
    "Ans:\n",
    "1 or 0 output: 1\n",
    "\n",
    "0 and 0 output: 0\n",
    "\n",
    "True and False and True output: false\n",
    "\n",
    "1 or 0 or 0 output: 1\n"
   ]
  },
  {
   "attachments": {},
   "cell_type": "markdown",
   "id": "5af675b0",
   "metadata": {},
   "source": [
    "Q20. What are conditional statements in Python?\n",
    "\n",
    "\n",
    "Ans:\n",
    "conditinal stateents or decision making statements  are used to execute specific block of code based on the given condition.\n",
    "They are -> if statements, if else statements, elif statements, nested if statements."
   ]
  },
  {
   "attachments": {},
   "cell_type": "markdown",
   "id": "82bc52c0",
   "metadata": {},
   "source": [
    "\n",
    "Q21. What is use of 'if', 'elif' and 'else' keywords?\n",
    "\n",
    "\n",
    "ans: if---> It checks for a given condition, if it is true it executes code which is inside the 'if' block else not.\n",
    "elif-----> It checks multiple conditions only if the given condition is false. it evaluates multiple conditions.\n",
    "else---->The code under the else block will execute actions  only if the given condition is false."
   ]
  },
  {
   "cell_type": "markdown",
   "id": "f8ef99bb",
   "metadata": {},
   "source": [
    "Q22. Write a code to take the age of person as an input and if age >= 18 display \"I can vote\". If age is < 18 display\n",
    "\"I can't vote\"."
   ]
  },
  {
   "cell_type": "code",
   "execution_count": 8,
   "id": "a44c9033",
   "metadata": {},
   "outputs": [
    {
     "name": "stdout",
     "output_type": "stream",
     "text": [
      "enter the age5\n",
      "I can't vote\n"
     ]
    }
   ],
   "source": [
    "age=int(input(\"enter the age\"))\n",
    "if(age)>=18:\n",
    "    print(\"I can vote\")\n",
    "else:\n",
    "    print(\"I can't vote\")"
   ]
  },
  {
   "cell_type": "markdown",
   "id": "c83f26c4",
   "metadata": {},
   "source": [
    "Q23. Write a code that displays the sum of all the even numbers from the given list."
   ]
  },
  {
   "cell_type": "code",
   "execution_count": 162,
   "id": "e159a584",
   "metadata": {},
   "outputs": [
    {
     "name": "stdout",
     "output_type": "stream",
     "text": [
      "392\n"
     ]
    }
   ],
   "source": [
    "num=[12, 75, 150, 180, 145, 525, 50]\n",
    "sum=0\n",
    "for i in range(0,7):\n",
    "    if(num[i]%2)==0:\n",
    "        sum=sum+num[i]\n",
    "print (sum)\n",
    "        "
   ]
  },
  {
   "cell_type": "markdown",
   "id": "33aa1e30",
   "metadata": {},
   "source": [
    "Q24. Write a code to take 3 numbers as an input from the user and display the greatest no as output."
   ]
  },
  {
   "cell_type": "code",
   "execution_count": 165,
   "id": "778d97fe",
   "metadata": {},
   "outputs": [
    {
     "name": "stdout",
     "output_type": "stream",
     "text": [
      "Enter three values: 43 56 1\n",
      "56\n"
     ]
    }
   ],
   "source": [
    "a, b, c = input(\"Enter three values: \").split()\n",
    "if (a>b) and (a>c):\n",
    "    print(\"the largest is:\",a)\n",
    "elif (b>a) and (b>c):\n",
    "    print(b)\n",
    "else:\n",
    "    print(c)"
   ]
  },
  {
   "cell_type": "markdown",
   "id": "b151d577",
   "metadata": {},
   "source": [
    "Q25. Write a program to display only those numbers from a list that satisfy the following conditions\n",
    "\n",
    "-The number must be divisible by five\n",
    "\n",
    "-If the number is greater than 150, then skip it and move to the next number\n",
    "\n",
    "-If the number is greater than 500, then stop the loop"
   ]
  },
  {
   "cell_type": "code",
   "execution_count": 169,
   "id": "0b2edb76",
   "metadata": {},
   "outputs": [
    {
     "name": "stdout",
     "output_type": "stream",
     "text": [
      "[75, 150, 145]\n"
     ]
    }
   ],
   "source": [
    "\n",
    "numlist= [12, 75, 150, 180, 145, 525, 50]\n",
    "newlist= []\n",
    "for i in numlist:\n",
    "    if i > 150:\n",
    "        if i > 500:\n",
    "            break\n",
    "        continue\n",
    "    if i % 5 == 0:\n",
    "        newlist.append(i)\n",
    "print(newlist)\n",
    "\n"
   ]
  },
  {
   "attachments": {},
   "cell_type": "markdown",
   "id": "fdec9ab6",
   "metadata": {},
   "source": [
    "Q26. What is a string? How can we declare string in Python?\n",
    "\n",
    "\n",
    "Ans : string is a datastructure in python which is used to declare the word or a sentence. It is a sequence of characters\n",
    "    decalration:\n",
    "        a=str(input(\"enter the string\"))"
   ]
  },
  {
   "cell_type": "markdown",
   "id": "eaf2e057",
   "metadata": {},
   "source": [
    "Q27. How can we access the string using its index?\n",
    "ans: example: Here in the example we accessed r by using index number 1. By declaring the idex number inside the sqaure braces\n",
    "of the particular string we wanted. As shown below"
   ]
  },
  {
   "cell_type": "code",
   "execution_count": 175,
   "id": "6450d827",
   "metadata": {},
   "outputs": [
    {
     "name": "stdout",
     "output_type": "stream",
     "text": [
      "enter the stringsreeya\n",
      "r\n"
     ]
    }
   ],
   "source": [
    "a=str(input(\"enter the string\"))\n",
    "print(a[1])"
   ]
  },
  {
   "cell_type": "markdown",
   "id": "979dd5f1",
   "metadata": {},
   "source": [
    "Q28. Write a code to get the desired output of the following\n",
    "\n",
    "string = \"Big Data iNeuron\"\n",
    "desired_output = \"iNeuron\""
   ]
  },
  {
   "cell_type": "code",
   "execution_count": 182,
   "id": "a58d453f",
   "metadata": {},
   "outputs": [
    {
     "name": "stdout",
     "output_type": "stream",
     "text": [
      "iNeuron\n"
     ]
    }
   ],
   "source": [
    "string=\"Big Data iNeuron\"\n",
    "print(string[9:17])"
   ]
  },
  {
   "cell_type": "markdown",
   "id": "6291d3b3",
   "metadata": {},
   "source": [
    "Q29. Write a code to get the desired output of the following\n",
    "\n",
    "string = \"Big Data iNeuron\"\n",
    "desired_output = \"norueNi\""
   ]
  },
  {
   "cell_type": "code",
   "execution_count": 4,
   "id": "94e54570",
   "metadata": {},
   "outputs": [
    {
     "name": "stdout",
     "output_type": "stream",
     "text": [
      "norueNi\n"
     ]
    }
   ],
   "source": [
    "string=\"Big Data iNeuron\"\n",
    "string2=(string[9:17])\n",
    "print(string2[::-1])"
   ]
  },
  {
   "cell_type": "markdown",
   "id": "2b7f060f",
   "metadata": {},
   "source": [
    "Q30. Resverse the string given in the above question"
   ]
  },
  {
   "cell_type": "code",
   "execution_count": 5,
   "id": "29fd2385",
   "metadata": {},
   "outputs": [
    {
     "name": "stdout",
     "output_type": "stream",
     "text": [
      "norueNi ataD giB\n"
     ]
    }
   ],
   "source": [
    "string=\"Big Data iNeuron\"\n",
    "print(string[::-1])\n"
   ]
  },
  {
   "cell_type": "markdown",
   "id": "9a3dce2e",
   "metadata": {},
   "source": [
    "Q31. How can you delete entire string at once?"
   ]
  },
  {
   "cell_type": "code",
   "execution_count": 11,
   "id": "14ebaa07",
   "metadata": {},
   "outputs": [
    {
     "name": "stdout",
     "output_type": "stream",
     "text": [
      "\n"
     ]
    }
   ],
   "source": [
    "string=\"remove string\"\n",
    "string=string[-1:-1]\n",
    "print(string)\n"
   ]
  },
  {
   "cell_type": "markdown",
   "id": "3b2e8c28",
   "metadata": {},
   "source": [
    "Q32. What is escape sequence?"
   ]
  },
  {
   "cell_type": "markdown",
   "id": "a6954df2",
   "metadata": {},
   "source": [
    "Ans: escape sequence is used to move the cursor or to print characters such as ', '', \\ etc,."
   ]
  },
  {
   "cell_type": "markdown",
   "id": "e37feeb1",
   "metadata": {},
   "source": [
    "Q33. How can you print the below string\n",
    "'iNeuron's Big Data Course'"
   ]
  },
  {
   "cell_type": "code",
   "execution_count": 19,
   "id": "b113cf0e",
   "metadata": {},
   "outputs": [
    {
     "name": "stdout",
     "output_type": "stream",
     "text": [
      "'iNeuron's Big Data Course'\n"
     ]
    }
   ],
   "source": [
    "print('\\'iNeuron\\'s Big Data Course\\'')"
   ]
  },
  {
   "cell_type": "markdown",
   "id": "1f86d753",
   "metadata": {},
   "source": [
    "Q34. What is a list in Python?"
   ]
  },
  {
   "cell_type": "markdown",
   "id": "8f032920",
   "metadata": {},
   "source": [
    "Ans: List in python is a data structure which defines as a collection of elements, elemnts in the list are declared inside the \n",
    "    square braces [ ] and seperated by commas."
   ]
  },
  {
   "cell_type": "markdown",
   "id": "86c86f60",
   "metadata": {},
   "source": [
    "Q35. How can you create a list in Python?"
   ]
  },
  {
   "cell_type": "code",
   "execution_count": 21,
   "id": "f772ec5e",
   "metadata": {},
   "outputs": [
    {
     "name": "stdout",
     "output_type": "stream",
     "text": [
      "enter the number of elements5\n",
      "1\n",
      "2\n",
      "3\n",
      "43\n",
      "4\n",
      "[1, 2, 3, 43, 4]\n"
     ]
    }
   ],
   "source": [
    "lit=[]\n",
    "size=int(input(\"enter the number of elements\"))\n",
    "for _ in range (size):\n",
    "    n=int(input())\n",
    "    lit.append(n)\n",
    "print(lit)"
   ]
  },
  {
   "cell_type": "markdown",
   "id": "e196db77",
   "metadata": {},
   "source": [
    "Q36. How can we access the elements in a list?"
   ]
  },
  {
   "cell_type": "markdown",
   "id": "5bb41b86",
   "metadata": {},
   "source": [
    "Ans:we can access the element in a list by using the index number of the particular elemnt as shown"
   ]
  },
  {
   "cell_type": "code",
   "execution_count": 27,
   "id": "1684e27f",
   "metadata": {},
   "outputs": [
    {
     "name": "stdout",
     "output_type": "stream",
     "text": [
      "2\n"
     ]
    }
   ],
   "source": [
    "lst=['1','2','3','4']\n",
    "print(lst[1])"
   ]
  },
  {
   "cell_type": "markdown",
   "id": "f283eab4",
   "metadata": {},
   "source": [
    "Q37. Write a code to access the word \"iNeuron\" from the given list.\n",
    "\n",
    "lst = [1,2,3,\"Hi\",[45,54, \"iNeuron\"], \"Big Data\"]"
   ]
  },
  {
   "cell_type": "code",
   "execution_count": 30,
   "id": "345c193c",
   "metadata": {},
   "outputs": [
    {
     "name": "stdout",
     "output_type": "stream",
     "text": [
      "iNeuron\n"
     ]
    }
   ],
   "source": [
    "lst = [1,2,3,\"Hi\",[45,54, \"iNeuron\"], \"Big Data\"]\n",
    "d=list((lst[4]))\n",
    "print(d[2])"
   ]
  },
  {
   "cell_type": "markdown",
   "id": "475ebde0",
   "metadata": {},
   "source": [
    "Q38. Take a list as an input from the user and find the length of the list"
   ]
  },
  {
   "cell_type": "code",
   "execution_count": 8,
   "id": "5f7bac97",
   "metadata": {},
   "outputs": [
    {
     "name": "stdout",
     "output_type": "stream",
     "text": [
      "1,2,3,4,5\n",
      "[1, 2, 3, 4, 5]\n",
      "5\n"
     ]
    }
   ],
   "source": [
    "lst=list(map(int,input().split(',')))\n",
    "print(lst)\n",
    "print(len(lst))"
   ]
  },
  {
   "cell_type": "markdown",
   "id": "a3fe1a38",
   "metadata": {},
   "source": [
    "Q39. Add the word \"Big\" in the 3rd index of the given list.\n",
    "\n",
    "lst = [\"Welcome\", \"to\", \"Data\", \"course\"]"
   ]
  },
  {
   "cell_type": "code",
   "execution_count": 75,
   "id": "dd9b52b3",
   "metadata": {},
   "outputs": [
    {
     "name": "stdout",
     "output_type": "stream",
     "text": [
      "['Welcome', 'to', 'Data', 'big', 'course']\n"
     ]
    }
   ],
   "source": [
    "\n",
    "lst = [\"Welcome\", \"to\", \"Data\", \"course\"]\n",
    "lst.insert(3,'big')\n",
    "print(lst)\n",
    "\n"
   ]
  },
  {
   "cell_type": "markdown",
   "id": "abb9f970",
   "metadata": {},
   "source": [
    "Q40. What is a tuple? How is it different from list?"
   ]
  },
  {
   "cell_type": "markdown",
   "id": "9f444d4a",
   "metadata": {},
   "source": [
    "Tuples are enclosed in () closed braces which are immutable that means elements in it cannot be changed or updated where as\n",
    "in list elements are enclosed in[] square braces which are mutable."
   ]
  },
  {
   "cell_type": "markdown",
   "id": "2526e790",
   "metadata": {},
   "source": [
    "Q41. How can you create a tuple in Python?\n",
    "ANS:\n",
    "tuple created as shown :"
   ]
  },
  {
   "cell_type": "code",
   "execution_count": 20,
   "id": "85b72984",
   "metadata": {},
   "outputs": [
    {
     "name": "stdout",
     "output_type": "stream",
     "text": [
      "(1, 2, 3)\n"
     ]
    }
   ],
   "source": [
    "s=(1,2,3)\n",
    "print(s)\n"
   ]
  },
  {
   "attachments": {},
   "cell_type": "markdown",
   "id": "4f3abbe6",
   "metadata": {},
   "source": [
    "Q42. Create a tuple and try to add your name in the tuple. Are you able to do it? Support your answer with reason.\n",
    "\n",
    "\n",
    "ANS: we cannot add a name in tuple beacause tuple is immutable which means elements inside the tuple cannot be updated that is the reason tuple doesnot support such operations"
   ]
  },
  {
   "cell_type": "markdown",
   "id": "842d578a",
   "metadata": {},
   "source": [
    "Q43. Can two tuple be appended. If yes, write a code for it. If not, why?\n",
    "yes, by using + operator."
   ]
  },
  {
   "cell_type": "code",
   "execution_count": 22,
   "id": "3edb03d6",
   "metadata": {},
   "outputs": [
    {
     "name": "stdout",
     "output_type": "stream",
     "text": [
      "(1, 2, 3, 4, 5, 6)\n"
     ]
    }
   ],
   "source": [
    "s=(1,2,3)\n",
    "p=(4,5,6)\n",
    "d=s+p\n",
    "print(d)"
   ]
  },
  {
   "cell_type": "markdown",
   "id": "544e4c6c",
   "metadata": {},
   "source": [
    "Q44. Take a tuple as an input and print the count of elements in it."
   ]
  },
  {
   "cell_type": "code",
   "execution_count": 27,
   "id": "6d855ded",
   "metadata": {},
   "outputs": [
    {
     "name": "stdout",
     "output_type": "stream",
     "text": [
      "3\n"
     ]
    }
   ],
   "source": [
    "s=(1,2,3)\n",
    "d=len(s)\n",
    "print(d)"
   ]
  },
  {
   "attachments": {},
   "cell_type": "markdown",
   "id": "0a3e3d23",
   "metadata": {},
   "source": [
    "Q45. What are sets in Python?\n",
    "\n",
    "\n",
    "ANS: sets in python is a unordered collection datatype which does not have the duplicate elements in it and gives original list and it is mutable and iterable."
   ]
  },
  {
   "cell_type": "markdown",
   "id": "c51d23d3",
   "metadata": {},
   "source": [
    "Q46. How can you create a set?\n",
    "set is created using a curly braces {}. not only integer even strings, characters acn also be places inside the curly braces.\n",
    "as shown below:\n",
    "s={1,2,3,4,5}"
   ]
  },
  {
   "cell_type": "code",
   "execution_count": 28,
   "id": "4cb1a877",
   "metadata": {},
   "outputs": [
    {
     "name": "stdout",
     "output_type": "stream",
     "text": [
      "{1, 2, 3, 4, 5, 6, 7, 8}\n"
     ]
    }
   ],
   "source": [
    "s={1,2,3,2,4,5,6,6,7,8}\n",
    "print(s)"
   ]
  },
  {
   "cell_type": "markdown",
   "id": "cff46778",
   "metadata": {},
   "source": [
    "Q47. Create a set and add \"iNeuron\" in your set."
   ]
  },
  {
   "cell_type": "code",
   "execution_count": 35,
   "id": "5375a956",
   "metadata": {},
   "outputs": [
    {
     "name": "stdout",
     "output_type": "stream",
     "text": [
      "{'iNeuron', 'data', 'big'}\n"
     ]
    }
   ],
   "source": [
    "s={'big','data'}\n",
    "s.add(\"iNeuron\")\n",
    "print(s)\n"
   ]
  },
  {
   "attachments": {},
   "cell_type": "markdown",
   "id": "fbf20dc1",
   "metadata": {},
   "source": [
    "Q48. Try to add multiple values using add() function.\n",
    "\n",
    "add takes only one argument we can add values uding add() function as shown below"
   ]
  },
  {
   "cell_type": "code",
   "execution_count": 33,
   "id": "fee1b970",
   "metadata": {},
   "outputs": [
    {
     "name": "stdout",
     "output_type": "stream",
     "text": [
      "{1, 2, 3, 4, 41, 56, 57}\n"
     ]
    }
   ],
   "source": [
    "s={1,2,3,4}\n",
    "s.add(56)\n",
    "s.add(57)\n",
    "s.add(41)\n",
    "print(s)"
   ]
  },
  {
   "attachments": {},
   "cell_type": "markdown",
   "id": "77b64a09",
   "metadata": {},
   "source": [
    "Q49. How is update() different from add()?\n",
    "\n",
    "\n",
    "ANS: add() method will add single value where to the set where as update() methos will add multiple values at one go."
   ]
  },
  {
   "attachments": {},
   "cell_type": "markdown",
   "id": "79116e12",
   "metadata": {},
   "source": [
    "Q50. What is clear() in sets?\n",
    "\n",
    "\n",
    "The clear() method removes all elements from the set."
   ]
  },
  {
   "attachments": {},
   "cell_type": "markdown",
   "id": "c2175707",
   "metadata": {},
   "source": [
    "51.What is frozen set?\n",
    "\n",
    "\n",
    "ANS: In frozenset() elements are immuatable which menas we cannot change, update, or add values into that set."
   ]
  },
  {
   "attachments": {},
   "cell_type": "markdown",
   "id": "88df527b",
   "metadata": {},
   "source": [
    "Q52. How is frozen set different from set?\n",
    "\n",
    "\n",
    "In frozen set elements are immuatable which menas we cannot change, update, or add values into that set.\n",
    "where as elements of a set are mutable."
   ]
  },
  {
   "cell_type": "markdown",
   "id": "13bfeade",
   "metadata": {},
   "source": [
    "Q53. What is union() in sets? Explain via code.\n",
    "union of two set contains all the elements of that two sets such that no elements are repeated."
   ]
  },
  {
   "cell_type": "code",
   "execution_count": 37,
   "id": "df5984fe",
   "metadata": {},
   "outputs": [
    {
     "name": "stdout",
     "output_type": "stream",
     "text": [
      "{1, 2, 3, 4, 5}\n"
     ]
    }
   ],
   "source": [
    "set1={1,2,3}\n",
    "set2={2,3,4,5}\n",
    "d= set1.union(set2)\n",
    "print(d)"
   ]
  },
  {
   "cell_type": "markdown",
   "id": "906b323f",
   "metadata": {},
   "source": [
    "Q54. What is intersection() in sets? Explain via code\n",
    "ANS: intersection function in sets will contain the elemnts which are common in both sets as shown below:"
   ]
  },
  {
   "cell_type": "code",
   "execution_count": 38,
   "id": "fa7a782d",
   "metadata": {},
   "outputs": [
    {
     "name": "stdout",
     "output_type": "stream",
     "text": [
      "{2, 3}\n"
     ]
    }
   ],
   "source": [
    "set1={1,2,3}\n",
    "set2={2,3,4,5}\n",
    "d= set1.intersection(set2)\n",
    "print(d)"
   ]
  },
  {
   "attachments": {},
   "cell_type": "markdown",
   "id": "11ad05b6",
   "metadata": {},
   "source": [
    "Q55. What is dictionary in Python?\n",
    "\n",
    "\n",
    "ANS: dictionary in python is a map data structure which holds keys and values. keys can be integer and a string cannot be list,tuple,set etc., where as value can be anything"
   ]
  },
  {
   "cell_type": "markdown",
   "id": "4d3f7ba9",
   "metadata": {},
   "source": [
    "Q56. How is dictionary different from all other data structures.\n",
    "ANS: It makes use of two elements which are key and value.\n",
    "     While other Data Structures use only one value as the element."
   ]
  },
  {
   "cell_type": "code",
   "execution_count": null,
   "id": "449772d3",
   "metadata": {},
   "outputs": [],
   "source": [
    "Q57. How can we delare a dictionary in Python?\n",
    "ans : as shown below"
   ]
  },
  {
   "cell_type": "code",
   "execution_count": 15,
   "id": "84ef14e2",
   "metadata": {},
   "outputs": [],
   "source": [
    "dic1={'a':1,'b':2,'c':3}"
   ]
  },
  {
   "cell_type": "markdown",
   "id": "4c4a80ae",
   "metadata": {},
   "source": [
    "Q58. What will the output of the following?\n",
    "\n",
    "var = {}\n",
    "print(type(var))\n",
    "ans: the output will be class:dict"
   ]
  },
  {
   "cell_type": "markdown",
   "id": "0c6cd31a",
   "metadata": {},
   "source": [
    "Q59. How can we add an element in a dictionary?"
   ]
  },
  {
   "cell_type": "code",
   "execution_count": 36,
   "id": "bfaf00a3",
   "metadata": {},
   "outputs": [
    {
     "name": "stdout",
     "output_type": "stream",
     "text": [
      "{'a': 1, 'b': 2, 'c': 3, 'd': '4', 'e': '5'}\n"
     ]
    }
   ],
   "source": [
    "dic1={'a':1,'b':2,'c':3}\n",
    "dic1['d']='4'\n",
    "dic1['e']='5'\n",
    "print(dic1)\n"
   ]
  },
  {
   "cell_type": "markdown",
   "id": "c7156391",
   "metadata": {},
   "source": [
    "Q60. Create a dictionary and access all the values in that dictionary"
   ]
  },
  {
   "cell_type": "code",
   "execution_count": 30,
   "id": "51287212",
   "metadata": {},
   "outputs": [
    {
     "name": "stdout",
     "output_type": "stream",
     "text": [
      "[1, 2, 3]\n"
     ]
    }
   ],
   "source": [
    "dic1={'a':1,'b':2,'c':3}\n",
    "total_val=list(dic1.values())\n",
    "print(total_val)"
   ]
  },
  {
   "cell_type": "markdown",
   "id": "9fa2022d",
   "metadata": {},
   "source": [
    "Q61. Create a nested dictionary and access all the element in the inner dictionary."
   ]
  },
  {
   "cell_type": "code",
   "execution_count": 15,
   "id": "294a79c8",
   "metadata": {},
   "outputs": [
    {
     "name": "stdout",
     "output_type": "stream",
     "text": [
      "{'Dic1': {'a': 1, 'b': 2}}\n"
     ]
    }
   ],
   "source": [
    "dic={'Dic1': {'a': 1 ,'b': 2},'Dic2': {'c': 3, 'd': 4}}\n",
    "dic.pop('Dic2')\n",
    "print(dic)\n"
   ]
  },
  {
   "attachments": {},
   "cell_type": "markdown",
   "id": "1dcbf3b5",
   "metadata": {},
   "source": [
    "Q62. What is the use of get() function?\n",
    "\n",
    "\n",
    "Ans: get() method will return the value of given key if it is there in dictionary if not then it will return none."
   ]
  },
  {
   "attachments": {},
   "cell_type": "markdown",
   "id": "94a81181",
   "metadata": {},
   "source": [
    "Q63. What is the use of items() function?\n",
    "\n",
    "\n",
    "ans: items() method in the dictionary will return all the keys and values of a dictionary in the form of tuple in a list."
   ]
  },
  {
   "attachments": {},
   "cell_type": "markdown",
   "id": "3d8678c6",
   "metadata": {},
   "source": [
    "Q64. What is the use of pop() function?\n",
    "\n",
    "\n",
    "ANS: pop() function will removes the element at given position."
   ]
  },
  {
   "cell_type": "markdown",
   "id": "a88f91ee",
   "metadata": {},
   "source": [
    "Q65. What is the use of popitems() function?"
   ]
  },
  {
   "cell_type": "markdown",
   "id": "6056ff10",
   "metadata": {},
   "source": [
    "ANS: Python dictionary popitem() method removes the last inserted key-value pair from the dictionary and returns it as a tuple."
   ]
  },
  {
   "attachments": {},
   "cell_type": "markdown",
   "id": "fb093b11",
   "metadata": {},
   "source": [
    "Q66. What is the use of keys() function?\n",
    "\n",
    "\n",
    "ANS: key() method will return all the keys present in the dictionary."
   ]
  },
  {
   "attachments": {},
   "cell_type": "markdown",
   "id": "88d23186",
   "metadata": {},
   "source": [
    "Q67. What is the use of values() function?\n",
    "\n",
    "\n",
    "ANS: values() method will return all the values present in the dictionary."
   ]
  },
  {
   "cell_type": "markdown",
   "id": "bafeafef",
   "metadata": {},
   "source": [
    "Q68. What are loops in Python?"
   ]
  },
  {
   "cell_type": "markdown",
   "id": "ca8fed69",
   "metadata": {},
   "source": [
    "ANS: loops in python is used for iteration of the statements till the condition is achieved basically\n",
    "    to avoid repetition of code."
   ]
  },
  {
   "cell_type": "markdown",
   "id": "c978d039",
   "metadata": {},
   "source": [
    "Q69. How many type of loop are there in Python?"
   ]
  },
  {
   "cell_type": "markdown",
   "id": "ef5e5a91",
   "metadata": {},
   "source": [
    "ANS: loop in python: for loop, while loop, nested loop "
   ]
  },
  {
   "cell_type": "markdown",
   "id": "e349c7e6",
   "metadata": {},
   "source": [
    "Q70. What is the difference between for and while loops?"
   ]
  },
  {
   "cell_type": "markdown",
   "id": "e02e4f78",
   "metadata": {},
   "source": [
    "ANs: For loop is used when the number of iterations is already known. While loop is used when the number of\n",
    "    iterations is already Unknown.We use while loops to run the same task multiple times and for loops to loop once\n",
    "    over list data."
   ]
  },
  {
   "cell_type": "markdown",
   "id": "e2b12721",
   "metadata": {},
   "source": [
    "Q71. What is the use of continue statement?"
   ]
  },
  {
   "cell_type": "markdown",
   "id": "7fffc397",
   "metadata": {},
   "source": [
    "ANS: Continue statement is a loop control statement that forces to execute the next iteration of the loop while skipping the rest of the code inside the loop for the current iteration only."
   ]
  },
  {
   "cell_type": "markdown",
   "id": "6680b0b8",
   "metadata": {},
   "source": [
    "Q72. What is the use of break statement?"
   ]
  },
  {
   "cell_type": "markdown",
   "id": "51d9b71e",
   "metadata": {},
   "source": [
    "ANS: break statement is used terminate loop  execution and continues with the rest of the code."
   ]
  },
  {
   "cell_type": "markdown",
   "id": "22119105",
   "metadata": {},
   "source": [
    "Q73. What is the use of pass statement?"
   ]
  },
  {
   "cell_type": "markdown",
   "id": "7ee6a166",
   "metadata": {},
   "source": [
    "Ans: pass statement is nothing but a null statement it avoids giving an error when no code is written inside the loop as empty \n",
    "codes are not allowed in loops or functions."
   ]
  },
  {
   "cell_type": "markdown",
   "id": "f3c717b6",
   "metadata": {},
   "source": [
    "Q.74. What is the use of range() function?"
   ]
  },
  {
   "cell_type": "markdown",
   "id": "59427128",
   "metadata": {},
   "source": [
    "Ans: The funstion range is generally used in for loop range funcion is used to iterate the loop with in the given range where\n",
    "    the range is given by the programmer. It helps to generate the series of loop."
   ]
  },
  {
   "cell_type": "markdown",
   "id": "ccd50bab",
   "metadata": {},
   "source": [
    "Q75. How can you loop over a dictionary?"
   ]
  },
  {
   "attachments": {},
   "cell_type": "markdown",
   "id": "9be3edb2",
   "metadata": {},
   "source": [
    "Ans: we can loop over a dictionary using for loop."
   ]
  },
  {
   "cell_type": "markdown",
   "id": "d4e11eb0",
   "metadata": {},
   "source": [
    "Q76. Write a Python program to find the factorial of a given number.\n"
   ]
  },
  {
   "cell_type": "code",
   "execution_count": 1,
   "id": "ea81042d",
   "metadata": {},
   "outputs": [
    {
     "name": "stdout",
     "output_type": "stream",
     "text": [
      "enter the num:5\n",
      "120\n"
     ]
    }
   ],
   "source": [
    "num=int(input(\"enter the num:\"))\n",
    "fact=1\n",
    "for i in range (1,num+1):\n",
    "    fact=fact*i\n",
    "print(fact)"
   ]
  },
  {
   "cell_type": "markdown",
   "id": "771b4d0f",
   "metadata": {},
   "source": [
    "Q77. Write a Python program to calculate the simple interest. Formula to calculate simple interest is SI = (PRT)/100\n"
   ]
  },
  {
   "cell_type": "code",
   "execution_count": 2,
   "id": "d0f2deb0",
   "metadata": {},
   "outputs": [
    {
     "name": "stdout",
     "output_type": "stream",
     "text": [
      "enter the value of p10\n",
      "enter the value of r20\n",
      "enter the value of t30\n",
      "60.0\n"
     ]
    }
   ],
   "source": [
    "p=int(input('enter the value of p'))\n",
    "r=int(input('enter the value of r'))\n",
    "t=int(input('enter the value of t'))\n",
    "x=p*t*r;\n",
    "s=x/100;\n",
    "print(s)"
   ]
  },
  {
   "cell_type": "markdown",
   "id": "fda70314",
   "metadata": {},
   "source": [
    "Q78. Write a Python program to calculate the compound interest. Formula of compound interest is A = P(1+ R/100)^t.\n"
   ]
  },
  {
   "cell_type": "code",
   "execution_count": 8,
   "id": "1e08a8b0",
   "metadata": {},
   "outputs": [
    {
     "name": "stdout",
     "output_type": "stream",
     "text": [
      "enter the value of p10\n",
      "enter the value of r20\n",
      "enter the value of t30\n",
      "compound intrest is 2363.7631379976956\n"
     ]
    }
   ],
   "source": [
    "p=float(input('enter the value of p'))\n",
    "r=float(input('enter the value of r'))\n",
    "t=float(input('enter the value of t'))\n",
    "a=p*(1+(r/100))**t\n",
    "print(\"compound intrest is\",a-p)"
   ]
  },
  {
   "cell_type": "markdown",
   "id": "44240e5a",
   "metadata": {},
   "source": [
    "Q79. Write a Python program to check if a number is prime or not.\n",
    "\n"
   ]
  },
  {
   "cell_type": "code",
   "execution_count": 11,
   "id": "158310d9",
   "metadata": {},
   "outputs": [
    {
     "name": "stdout",
     "output_type": "stream",
     "text": [
      "enter the number:72\n",
      "the number is even\n"
     ]
    }
   ],
   "source": [
    "num=int(input(\"enter the number:\"))\n",
    "if(num%2==0):\n",
    "    print(\"the number is even\")\n",
    "else:\n",
    "    print(\"the given num is odd\")\n",
    "        "
   ]
  },
  {
   "cell_type": "markdown",
   "id": "6ce27f52",
   "metadata": {},
   "source": [
    "Q80. Write a Python program to check Armstrong Number.\n"
   ]
  },
  {
   "cell_type": "code",
   "execution_count": 42,
   "id": "51886d6b",
   "metadata": {},
   "outputs": [
    {
     "name": "stdout",
     "output_type": "stream",
     "text": [
      "enter the number9474\n",
      "4\n",
      "9474\n",
      "number is armstrong\n"
     ]
    }
   ],
   "source": [
    "num=int(input(\"enter the number\"))\n",
    "temp=num\n",
    "z=num\n",
    "s=0\n",
    "c=0\n",
    "while(num!=0):\n",
    "    r=num%10\n",
    "    c=c+1\n",
    "    num=num//10\n",
    "print(c)\n",
    "while(temp!=0):\n",
    "    r=temp%10\n",
    "    y=pow(r,c)\n",
    "    s=s+y\n",
    "    temp=temp//10\n",
    "print(s)\n",
    "if(s==z):\n",
    "    print(\"number is armstrong\")\n",
    "else:\n",
    "    print(\"not an armstrong\")\n",
    "\n",
    "    "
   ]
  },
  {
   "cell_type": "markdown",
   "id": "96ba5719",
   "metadata": {},
   "source": [
    "Q81. Write a Python program to find the n-th Fibonacci Number.\n"
   ]
  },
  {
   "cell_type": "code",
   "execution_count": 152,
   "id": "24a1bee4",
   "metadata": {},
   "outputs": [
    {
     "name": "stdout",
     "output_type": "stream",
     "text": [
      "enter the num10\n",
      "0\n",
      "1\n",
      "1\n",
      "2\n",
      "3\n",
      "5\n",
      "8\n",
      "13\n",
      "21\n",
      "34\n"
     ]
    }
   ],
   "source": [
    "n=int(input(\"enter the num\"))\n",
    "a=0\n",
    "b=1\n",
    "if(n==1):\n",
    "    print(a)\n",
    "else:\n",
    "    print(a)\n",
    "    print(b)\n",
    "    for _ in range(2,n):\n",
    "        c=a+b\n",
    "        a=b\n",
    "        b=c\n",
    "        print(c)\n"
   ]
  },
  {
   "cell_type": "markdown",
   "id": "346a51ec",
   "metadata": {},
   "source": [
    "Q82. Write a Python program to interchange the first and last element in a list.\n"
   ]
  },
  {
   "cell_type": "code",
   "execution_count": 84,
   "id": "900297d8",
   "metadata": {},
   "outputs": [
    {
     "name": "stdout",
     "output_type": "stream",
     "text": [
      "enter the number of elements5\n",
      "8\n",
      "9\n",
      "7\n",
      "6\n",
      "5\n",
      "[8, 9, 7, 6, 5]\n",
      "[5, 9, 7, 6, 8]\n"
     ]
    }
   ],
   "source": [
    "lit=[]\n",
    "size=int(input(\"enter the number of elements\"))\n",
    "for _ in range (size):\n",
    "    n=int(input())\n",
    "    lit.append(n)\n",
    "print(lit)\n",
    "temp=lit[0]\n",
    "lit[0]=lit[n-1]\n",
    "lit[n-1]=temp\n",
    "print(lit)\n"
   ]
  },
  {
   "cell_type": "markdown",
   "id": "46f54646",
   "metadata": {},
   "source": [
    "## "
   ]
  },
  {
   "cell_type": "markdown",
   "id": "933fa295",
   "metadata": {},
   "source": [
    "Q83. Write a Python program to swap two elements in a list"
   ]
  },
  {
   "cell_type": "code",
   "execution_count": 85,
   "id": "34ce7ae5",
   "metadata": {},
   "outputs": [
    {
     "name": "stdout",
     "output_type": "stream",
     "text": [
      "enter the number of elements6\n",
      "1\n",
      "2\n",
      "3\n",
      "4\n",
      "5\n",
      "6\n",
      "[1, 2, 3, 4, 5, 6]\n",
      "[4, 2, 3, 1, 5, 6]\n"
     ]
    }
   ],
   "source": [
    "lit=[]\n",
    "size=int(input(\"enter the number of elements\"))\n",
    "for _ in range (size):\n",
    "    n=int(input())\n",
    "    lit.append(n)\n",
    "print(lit)\n",
    "temp=lit[0]\n",
    "lit[0]=lit[3] #swapping 1st element with the 4th element in the list\n",
    "lit[3]=temp\n",
    "print(lit)"
   ]
  },
  {
   "cell_type": "markdown",
   "id": "75d2eafb",
   "metadata": {},
   "source": [
    "Q.84. Write a Python program to find N largest element from a list."
   ]
  },
  {
   "cell_type": "code",
   "execution_count": 95,
   "id": "3f98d1c2",
   "metadata": {},
   "outputs": [
    {
     "name": "stdout",
     "output_type": "stream",
     "text": [
      "enter the size of the list5\n",
      "1\n",
      "22\n",
      "6\n",
      "46\n",
      "53\n",
      "the maximum element in the list  is 53\n"
     ]
    }
   ],
   "source": [
    "l=[]\n",
    "size=int(input(\"enter the size of the list\"))\n",
    "for _ in range (size):\n",
    "    n=int(input())\n",
    "    l.append(n)\n",
    "print(\"the maximum element in the list  is\",max(l))\n"
   ]
  },
  {
   "cell_type": "markdown",
   "id": "6ba3b2c8",
   "metadata": {},
   "source": [
    "Q85. Write a Python program to find cumulative sum of a list.\n"
   ]
  },
  {
   "cell_type": "code",
   "execution_count": 35,
   "id": "63cbad0e",
   "metadata": {},
   "outputs": [
    {
     "name": "stdout",
     "output_type": "stream",
     "text": [
      "enter5\n",
      "1\n",
      "2\n",
      "3\n",
      "4\n",
      "5\n",
      "[1, 2, 3, 4, 5]\n",
      "[1, 3, 6, 10, 15]\n"
     ]
    }
   ],
   "source": [
    "l=[]\n",
    "size=int(input(\"enter\"))\n",
    "res=0\n",
    "i=0\n",
    "for _ in range (size):\n",
    "    n=int(input())\n",
    "    l.append(n)\n",
    "print(l)\n",
    "nl=[]\n",
    "    \n",
    "for i  in range (0,size):\n",
    "    res=res+l[i]\n",
    "    nl.append(res)\n",
    "print(nl)\n",
    "    \n",
    "  \n",
    "    \n",
    "    \n"
   ]
  },
  {
   "cell_type": "markdown",
   "id": "a131f135",
   "metadata": {},
   "source": [
    "Q86. Write a Python program to check if a string is palindrome or not"
   ]
  },
  {
   "cell_type": "code",
   "execution_count": 143,
   "id": "1910c1bd",
   "metadata": {},
   "outputs": [
    {
     "name": "stdout",
     "output_type": "stream",
     "text": [
      "enter the wordmadam\n",
      "madam\n",
      "yes!it is palindrome\n"
     ]
    }
   ],
   "source": [
    "l=str(input(\"enter the word\"))\n",
    "rev=l[::-1]\n",
    "print(rev)\n",
    "\n",
    "if(l==rev):\n",
    "    print(\"yes!it is palindrome\")\n",
    "else:\n",
    "    print(\"no, it is not palindrome\")"
   ]
  },
  {
   "cell_type": "markdown",
   "id": "655d8a16",
   "metadata": {},
   "source": [
    "Q87. Write a Python program to remove i'th element from a string."
   ]
  },
  {
   "cell_type": "code",
   "execution_count": 53,
   "id": "19b6eb70",
   "metadata": {},
   "outputs": [
    {
     "name": "stdout",
     "output_type": "stream",
     "text": [
      "enter the string shreeya\n",
      "shreeya\n",
      "enter the pos of the word that has to be removed1\n",
      "sreeya\n"
     ]
    }
   ],
   "source": [
    "string=str(input(\"enter the string \"))\n",
    "print(string)\n",
    "i=int(input(\"enter the pos of the word that has to be removed\"))\n",
    "print(string[:i]+string[i+1:])"
   ]
  },
  {
   "cell_type": "markdown",
   "id": "2fc6552e",
   "metadata": {},
   "source": [
    "Q88. Write a Python program to check if a substring is present in a given string."
   ]
  },
  {
   "cell_type": "code",
   "execution_count": 61,
   "id": "1666f033",
   "metadata": {},
   "outputs": [
    {
     "name": "stdout",
     "output_type": "stream",
     "text": [
      "enter the stringbigdata engineering\n",
      "bigdata engineering\n",
      "enter the substringbigdata\n",
      "bigdata\n",
      "substring is present\n"
     ]
    }
   ],
   "source": [
    "string=str(input(\"enter the string\"))\n",
    "print(string)\n",
    "subs=str(input(\"enter the substring\"))\n",
    "print(subs)\n",
    "if(string.count(subs)>0):\n",
    "    print(\"substring is present\")\n",
    "else:\n",
    "    print(\"substring is not present\")"
   ]
  },
  {
   "cell_type": "markdown",
   "id": "07252a45",
   "metadata": {},
   "source": [
    "Q89. Write a Python program to find words which are greater than given length k"
   ]
  },
  {
   "cell_type": "code",
   "execution_count": 112,
   "id": "8613bfb8",
   "metadata": {},
   "outputs": [
    {
     "name": "stdout",
     "output_type": "stream",
     "text": [
      "enter the stringsreya is a data engineer\n",
      "enter the length3\n",
      "['sreya', 'is', 'a', 'data', 'engineer']\n",
      "sreya data engineer "
     ]
    }
   ],
   "source": [
    "string=str(input(\"enter the string\"))\n",
    "k=int(input(\"enter the length\"))\n",
    "x=string.split(\" \")\n",
    "print(x)\n",
    "\n",
    "\n",
    "for i in range (0,len(x)):\n",
    "    if(len(x[i])>k):\n",
    "        print(x[i], end=\" \")\n",
    " \n",
    "\n",
    "\n",
    "\n"
   ]
  },
  {
   "cell_type": "markdown",
   "id": "b5830e7a",
   "metadata": {},
   "source": [
    "Q90. Write a Python program to extract unquire dictionary values."
   ]
  },
  {
   "cell_type": "code",
   "execution_count": 165,
   "id": "2d9a95c0",
   "metadata": {},
   "outputs": [
    {
     "name": "stdout",
     "output_type": "stream",
     "text": [
      "{1, 2, 3, 5, 9, 10}\n"
     ]
    }
   ],
   "source": [
    "dic={'python':[1,2,10,9],'hadoop':[3,3,3,3],'hive':[5,5,5,5]}\n",
    "l=len(list(dic.values()))\n",
    "z=list(dic.values())\n",
    "nl=sum(z,[])\n",
    "print(set(nl))\n",
    "\n",
    "\n"
   ]
  },
  {
   "cell_type": "markdown",
   "id": "e402b062",
   "metadata": {},
   "source": [
    "Q91. Write a Python program to merge two dictionary"
   ]
  },
  {
   "cell_type": "code",
   "execution_count": 227,
   "id": "8d2b1430",
   "metadata": {},
   "outputs": [
    {
     "name": "stdout",
     "output_type": "stream",
     "text": [
      "{'a': 1, 'b': 8, 'd': 6, 'c': 4}\n"
     ]
    }
   ],
   "source": [
    "\n",
    "dict1 = {'a': 1, 'b': 8}\n",
    "dict2 = {'d': 6, 'c': 4}\n",
    "dict1.update(dict2)\n",
    "print(dict1)\n",
    "\n",
    "\n",
    " \n"
   ]
  },
  {
   "cell_type": "markdown",
   "id": "d558c7de",
   "metadata": {},
   "source": [
    "Q92. Write a Python program to convert a list of tuples into dictionary"
   ]
  },
  {
   "cell_type": "code",
   "execution_count": 242,
   "id": "665e6c68",
   "metadata": {},
   "outputs": [
    {
     "name": "stdout",
     "output_type": "stream",
     "text": [
      "{'Sachin': [10], 'MSD': [7], 'Kohli': [18], 'Rohit': [45]}\n"
     ]
    }
   ],
   "source": [
    "tl=[('Sachin', 10), ('MSD', 7), ('Kohli', 18), ('Rohit', 45)]\n",
    "dic1=dict()\n",
    "for name,score in tl:\n",
    "    dic1.setdefault(name, []).append(score)\n",
    "print(dic1)\n"
   ]
  },
  {
   "cell_type": "markdown",
   "id": "b2aced31",
   "metadata": {},
   "source": [
    "Q93. Write a Python program to create a list of tuples from given list having number and its cube in each tuple."
   ]
  },
  {
   "cell_type": "code",
   "execution_count": 44,
   "id": "6c7488e8",
   "metadata": {},
   "outputs": [
    {
     "name": "stdout",
     "output_type": "stream",
     "text": [
      "[(9, 729), (5, 125), (6, 216)]\n"
     ]
    }
   ],
   "source": [
    "lis=[9,5,6]\n",
    "nl=[]\n",
    "res=[(lis[i],pow(lis[i],3)) for i in range(0,len(lis))]\n",
    "print(res)"
   ]
  },
  {
   "cell_type": "markdown",
   "id": "f28c975a",
   "metadata": {},
   "source": [
    "Q94. Write a Python program to get all combinations of 2 tuples."
   ]
  },
  {
   "cell_type": "code",
   "execution_count": 46,
   "id": "4b082cbb",
   "metadata": {},
   "outputs": [
    {
     "name": "stdout",
     "output_type": "stream",
     "text": [
      "[(7, 7), (7, 8), (2, 7), (2, 8), (7, 7), (7, 2), (8, 7), (8, 2)]\n"
     ]
    }
   ],
   "source": [
    "test_tuple1 = (7, 2)\n",
    "test_tuple2 = (7, 8)\n",
    "res1=[(val1,val2) for val1 in test_tuple1 for val2 in test_tuple2 ]\n",
    "res2=[(val1,val2) for val1 in test_tuple2 for val2 in test_tuple1]\n",
    "fres=res1+res2\n",
    "print(fres)\n"
   ]
  },
  {
   "cell_type": "code",
   "execution_count": null,
   "id": "58d98c0e",
   "metadata": {},
   "outputs": [],
   "source": [
    "Q95. Write a Python program to sort a list of tuples by second item.\n",
    "\n",
    "Input : [('for', 24), ('Geeks', 8), ('Geeks', 30)] "
   ]
  },
  {
   "cell_type": "code",
   "execution_count": 17,
   "id": "50b99971",
   "metadata": {},
   "outputs": [
    {
     "name": "stdout",
     "output_type": "stream",
     "text": [
      "[('Geeks', 8), ('for', 24), ('Geeks', 30)]\n"
     ]
    }
   ],
   "source": [
    "from operator import itemgetter\n",
    "def st(tuples):\n",
    "    return sorted(tuples, key=itemgetter(1))\n",
    "tuples = [('for', 24), ('Geeks', 8), ('Geeks', 30)]\n",
    "print(st(tuples))"
   ]
  },
  {
   "cell_type": "code",
   "execution_count": null,
   "id": "afd172a5",
   "metadata": {
    "vscode": {
     "languageId": "plaintext"
    }
   },
   "outputs": [],
   "source": [
    "\n",
    "Q96. Write a python program to print below pattern.\n",
    "\n",
    "* \n",
    "* * \n",
    "* * * \n",
    "* * * * \n",
    "* * * * *\n"
   ]
  },
  {
   "cell_type": "code",
   "execution_count": 62,
   "id": "d25353c4",
   "metadata": {},
   "outputs": [
    {
     "name": "stdout",
     "output_type": "stream",
     "text": [
      "enter the no of rows5\n",
      "* \n",
      "* * \n",
      "* * * \n",
      "* * * * \n",
      "* * * * * \n"
     ]
    }
   ],
   "source": [
    "rows=int(input(\"enter the no of rows\"))\n",
    "for i in range (0,rows):\n",
    "    for j in range(0,i+1):\n",
    "          print('*',end=' ')\n",
    "    print(\"\\r\")\n"
   ]
  },
  {
   "cell_type": "raw",
   "id": "379360b7",
   "metadata": {},
   "source": [
    "Q97. Write a python program to print below pattern.\n",
    "\n",
    "    *\n",
    "   **\n",
    "  ***\n",
    " ****\n",
    "*****"
   ]
  },
  {
   "cell_type": "code",
   "execution_count": 96,
   "id": "483a592f",
   "metadata": {},
   "outputs": [
    {
     "name": "stdout",
     "output_type": "stream",
     "text": [
      "     *\n",
      "    **\n",
      "   ***\n",
      "  ****\n",
      " *****\n"
     ]
    }
   ],
   "source": [
    "n=int(input())\n",
    "for i in range (n):\n",
    "    for j in range(n-i):\n",
    "        print(' ',end='')\n",
    "    for j in range(i+1):\n",
    "        print('*',end='')\n",
    "    print()\n",
    "        \n",
    "    "
   ]
  },
  {
   "cell_type": "code",
   "execution_count": null,
   "id": "3c07f8b9",
   "metadata": {},
   "outputs": [],
   "source": [
    "Q98. Write a python program to print below pattern.\n",
    "    * \n",
    "   * * \n",
    "  * * * \n",
    " * * * * \n",
    "* * * * *"
   ]
  },
  {
   "cell_type": "code",
   "execution_count": 98,
   "id": "a9df9a10",
   "metadata": {},
   "outputs": [
    {
     "name": "stdout",
     "output_type": "stream",
     "text": [
      "5\n",
      "      *\n",
      "     * *\n",
      "    * * *\n",
      "   * * * *\n",
      "  * * * * *\n"
     ]
    }
   ],
   "source": [
    "n=int(input())\n",
    "for i in range (n):\n",
    "    for j in range(n-i):\n",
    "        print(' ',end='')\n",
    "    for j in range(i+1):\n",
    "        print(' *',end='')\n",
    "    print()"
   ]
  },
  {
   "cell_type": "code",
   "execution_count": null,
   "id": "1849ad60",
   "metadata": {},
   "outputs": [],
   "source": [
    "Q99. Write a python program to print below pattern.\n",
    "\n",
    "1 \n",
    "1 2 \n",
    "1 2 3 \n",
    "1 2 3 4 \n",
    "1 2 3 4 5"
   ]
  },
  {
   "cell_type": "code",
   "execution_count": 118,
   "id": "f5523d84",
   "metadata": {},
   "outputs": [
    {
     "name": "stdout",
     "output_type": "stream",
     "text": [
      "enter the value of n5\n",
      "1 \n",
      "1 2 \n",
      "1 2 3 \n",
      "1 2 3 4 \n",
      "1 2 3 4 5 \n"
     ]
    }
   ],
   "source": [
    "n=int(input(\"enter the value of n\"))\n",
    "for i in range (n):\n",
    "    for j in range (i+1):\n",
    "        print(j+1,end=' ')\n",
    "    print()"
   ]
  },
  {
   "cell_type": "code",
   "execution_count": null,
   "id": "d64ce74d",
   "metadata": {},
   "outputs": [],
   "source": [
    "Q100. Write a python program to print below pattern.\n",
    "\n",
    "A \n",
    "B B \n",
    "C C C \n",
    "D D D D \n",
    "E E E E E"
   ]
  },
  {
   "cell_type": "code",
   "execution_count": 158,
   "id": "10c38dc6",
   "metadata": {},
   "outputs": [
    {
     "name": "stdout",
     "output_type": "stream",
     "text": [
      "enter the value of n5\n",
      "A \n",
      "B B \n",
      "C C C \n",
      "D D D D \n",
      "E E E E E \n"
     ]
    }
   ],
   "source": [
    "n=int(input(\"enter the value of n\"))\n",
    "k=ord('A')\n",
    "for i in range (0,n):\n",
    "    for j in range (0,i+1):\n",
    "        print(chr(k),end=' ')\n",
    "    k=k+1\n",
    "    print()"
   ]
  },
  {
   "cell_type": "code",
   "execution_count": null,
   "id": "adc3b21a",
   "metadata": {},
   "outputs": [],
   "source": []
  },
  {
   "cell_type": "code",
   "execution_count": null,
   "id": "b12fb52c",
   "metadata": {},
   "outputs": [],
   "source": []
  }
 ],
 "metadata": {
  "kernelspec": {
   "display_name": "Python 3",
   "language": "python",
   "name": "python3"
  },
  "language_info": {
   "codemirror_mode": {
    "name": "ipython",
    "version": 3
   },
   "file_extension": ".py",
   "mimetype": "text/x-python",
   "name": "python",
   "nbconvert_exporter": "python",
   "pygments_lexer": "ipython3",
   "version": "3.8.8"
  }
 },
 "nbformat": 4,
 "nbformat_minor": 5
}
